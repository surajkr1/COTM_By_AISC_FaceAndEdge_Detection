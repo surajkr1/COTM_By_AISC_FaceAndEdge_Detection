{
 "cells": [
  {
   "cell_type": "markdown",
   "metadata": {},
   "source": [
    "# Task 1 : Face,Eye,Mouth,Nose Detection"
   ]
  },
  {
   "cell_type": "code",
   "execution_count": 6,
   "metadata": {},
   "outputs": [],
   "source": [
    "import cv2\n",
    "import numpy as np\n",
    "import os\n"
   ]
  },
  {
   "cell_type": "code",
   "execution_count": 7,
   "metadata": {},
   "outputs": [],
   "source": [
    "face = cv2.CascadeClassifier('classifiers/face_classifier.xml')\n",
    "eye = cv2.CascadeClassifier('classifiers/eye_classifier.xml')\n",
    "nose = cv2.CascadeClassifier('classifiers/nose_classifier.xml')\n",
    "mouth = cv2.CascadeClassifier('classifiers/mouth_classifier.xml')"
   ]
  },
  {
   "cell_type": "code",
   "execution_count": 8,
   "metadata": {},
   "outputs": [],
   "source": [
    "images = os.listdir('J://python program//AISC//COTM 3//faces/')\n",
    "for image in images:\n",
    "    img = cv2.imread(f'faces/{image}')\n",
    "    gray = cv2.imread(f'faces/{image}')\n",
    "    gray = cv2.cvtColor(gray, cv2.COLOR_BGR2RGB)\n",
    "    faces = face.detectMultiScale(gray,1.1,25)\n",
    "    eyes = eye.detectMultiScale(gray,1.1,25)\n",
    "    mouths = mouth.detectMultiScale(gray,1.6,25)\n",
    "    noses = nose.detectMultiScale(gray,1.5,11)\n",
    "    for (a,b,c,d) in faces:\n",
    "        cv2.rectangle(img, (a,b), (a+c,b+d), (255,0,0),2)\n",
    "        cv2.putText(img, \"Face\", (a,b), cv2.FONT_HERSHEY_PLAIN, 2, (255,0,0),2)\n",
    "\n",
    "    \n",
    "    for (a,b,c,d) in eyes:\n",
    "        cv2.rectangle(img, (a,b), (a+c,b+d), (0,255,0),2)\n",
    "        cv2.putText(img, \"Eye\", (a,b), cv2.FONT_HERSHEY_PLAIN, 2, (0,255,0),2)\n",
    "    for (a,b,c,d) in noses:\n",
    "        cv2.rectangle(img, (a,b), (a+c,b+d), (0,0,255),2)\n",
    "        cv2.putText(img, \"Nose\", (a,b), cv2.FONT_HERSHEY_PLAIN, 2, (0,0,255),2)\n",
    "    for (a,b,c,d) in mouths:\n",
    "        cv2.rectangle(img, (a,b), (a+c,b+d), (255,0,255),2)\n",
    "        cv2.putText(img, \"Mouth\", (a,b), cv2.FONT_HERSHEY_PLAIN, 2, (255,0,255),2)\n",
    "    cv2.imwrite(f'detected/{image}', img)\n",
    "#{\"blue\":(255,0,0), \"red\":(0,0,255), \"green\":(0,255,0), \"white\":(255,255,255)"
   ]
  },
  {
   "cell_type": "markdown",
   "metadata": {},
   "source": [
    "# Task 2 : Monument edge Detection"
   ]
  },
  {
   "cell_type": "code",
   "execution_count": 9,
   "metadata": {},
   "outputs": [],
   "source": [
    "images = os.listdir('J://python program//AISC//COTM 3//monuments/')\n",
    "for image in images:\n",
    "    img = cv2.imread(f'monuments/{image}')\n",
    "    edged_img = cv2.Canny(img, 100, 200)\n",
    "    cv2.imwrite(f'edged_monuments/edged_{image}', edged_img)"
   ]
  },
  {
   "cell_type": "code",
   "execution_count": null,
   "metadata": {},
   "outputs": [],
   "source": []
  }
 ],
 "metadata": {
  "interpreter": {
   "hash": "3c26184c5c823dccd814580ae17f80ff451331791f5287c940e0fb99687d390d"
  },
  "kernelspec": {
   "display_name": "Python 3",
   "language": "python",
   "name": "python3"
  },
  "language_info": {
   "codemirror_mode": {
    "name": "ipython",
    "version": 3
   },
   "file_extension": ".py",
   "mimetype": "text/x-python",
   "name": "python",
   "nbconvert_exporter": "python",
   "pygments_lexer": "ipython3",
   "version": "3.8.3"
  }
 },
 "nbformat": 4,
 "nbformat_minor": 2
}
